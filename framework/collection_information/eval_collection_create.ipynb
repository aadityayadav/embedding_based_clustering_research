{
 "cells": [
  {
   "cell_type": "code",
   "execution_count": 6,
   "metadata": {},
   "outputs": [
    {
     "name": "stdout",
     "output_type": "stream",
     "text": [
      "{'battery': ['dataset'], 'g2mg': ['g2mg_128_10', 'g2mg_128_20', 'g2mg_128_30', 'g2mg_128_40', 'g2mg_128_50', 'g2mg_128_60', 'g2mg_128_70', 'g2mg_128_80', 'g2mg_128_90', 'g2mg_16_10', 'g2mg_16_20', 'g2mg_16_30', 'g2mg_16_40', 'g2mg_16_50', 'g2mg_16_60', 'g2mg_16_70', 'g2mg_16_80', 'g2mg_16_90', 'g2mg_1_10', 'g2mg_1_20', 'g2mg_1_30', 'g2mg_1_40', 'g2mg_1_50', 'g2mg_1_60', 'g2mg_1_70', 'g2mg_1_80', 'g2mg_1_90', 'g2mg_2_10', 'g2mg_2_20', 'g2mg_2_30', 'g2mg_2_40', 'g2mg_2_50', 'g2mg_2_60', 'g2mg_2_70', 'g2mg_2_80', 'g2mg_2_90', 'g2mg_32_10', 'g2mg_32_20', 'g2mg_32_30', 'g2mg_32_40', 'g2mg_32_50', 'g2mg_32_60', 'g2mg_32_70', 'g2mg_32_80', 'g2mg_32_90', 'g2mg_4_10', 'g2mg_4_20', 'g2mg_4_30', 'g2mg_4_40', 'g2mg_4_50', 'g2mg_4_60', 'g2mg_4_70', 'g2mg_4_80', 'g2mg_4_90', 'g2mg_64_10', 'g2mg_64_20', 'g2mg_64_30', 'g2mg_64_40', 'g2mg_64_50', 'g2mg_64_60', 'g2mg_64_70', 'g2mg_64_80', 'g2mg_64_90', 'g2mg_8_10', 'g2mg_8_20', 'g2mg_8_30', 'g2mg_8_40', 'g2mg_8_50', 'g2mg_8_60', 'g2mg_8_70', 'g2mg_8_80', 'g2mg_8_90'], 'other': ['chameleon_t4_8k', 'chameleon_t5_8k', 'chameleon_t7_10k', 'chameleon_t8_8k', 'hdbscan', 'iris', 'iris5', 'square'], 'graves': ['dense', 'fuzzyx', 'line', 'parabolic', 'ring', 'ring_noisy', 'ring_outliers', 'zigzag', 'zigzag_noisy', 'zigzag_outliers'], 'sipu': ['a1', 'a2', 'a3', 'aggregation', 'birch1', 'birch2', 'compound', 'd31', 'flame', 'jain', 'pathbased', 'r15', 's1', 's2', 's3', 's4', 'spiral', 'unbalance', 'worms_2', 'worms_64'], 'mnist': ['digits', 'fashion'], 'h2mg': ['h2mg_128_10', 'h2mg_128_20', 'h2mg_128_30', 'h2mg_128_40', 'h2mg_128_50', 'h2mg_128_60', 'h2mg_128_70', 'h2mg_128_80', 'h2mg_128_90', 'h2mg_16_10', 'h2mg_16_20', 'h2mg_16_30', 'h2mg_16_40', 'h2mg_16_50', 'h2mg_16_60', 'h2mg_16_70', 'h2mg_16_80', 'h2mg_16_90', 'h2mg_1_10', 'h2mg_1_20', 'h2mg_1_30', 'h2mg_1_40', 'h2mg_1_50', 'h2mg_1_60', 'h2mg_1_70', 'h2mg_1_80', 'h2mg_1_90', 'h2mg_2_10', 'h2mg_2_20', 'h2mg_2_30', 'h2mg_2_40', 'h2mg_2_50', 'h2mg_2_60', 'h2mg_2_70', 'h2mg_2_80', 'h2mg_2_90', 'h2mg_32_10', 'h2mg_32_20', 'h2mg_32_30', 'h2mg_32_40', 'h2mg_32_50', 'h2mg_32_60', 'h2mg_32_70', 'h2mg_32_80', 'h2mg_32_90', 'h2mg_4_10', 'h2mg_4_20', 'h2mg_4_30', 'h2mg_4_40', 'h2mg_4_50', 'h2mg_4_60', 'h2mg_4_70', 'h2mg_4_80', 'h2mg_4_90', 'h2mg_64_10', 'h2mg_64_20', 'h2mg_64_30', 'h2mg_64_40', 'h2mg_64_50', 'h2mg_64_60', 'h2mg_64_70', 'h2mg_64_80', 'h2mg_64_90', 'h2mg_8_10', 'h2mg_8_20', 'h2mg_8_30', 'h2mg_8_40', 'h2mg_8_50', 'h2mg_8_60', 'h2mg_8_70', 'h2mg_8_80', 'h2mg_8_90'], 'wut': ['circles', 'cross', 'graph', 'isolation', 'labirynth', 'mk1', 'mk2', 'mk3', 'mk4', 'olympic', 'smile', 'stripes', 'trajectories', 'trapped_lovers', 'twosplashes', 'windows', 'x1', 'x2', 'x3', 'z1', 'z2', 'z3'], 'fcps': ['atom', 'chainlink', 'engytime', 'hepta', 'lsun', 'target', 'tetra', 'twodiamonds', 'wingnut'], 'uci': ['ecoli', 'glass', 'ionosphere', 'sonar', 'statlog', 'wdbc', 'wine', 'yeast']}\n",
      "Data saved to /Users/cajoshuapark/Dev/research/embedding_based_clustering_research/framework/collection_information/eval_collections.json\n"
     ]
    }
   ],
   "source": [
    "import os\n",
    "import csv\n",
    "import json\n",
    "\n",
    "def create_dict_from_csv_files(folder_path):\n",
    "    eval_collections = {}\n",
    "    \n",
    "    # Loop over each file in the folder\n",
    "    for filename in os.listdir(folder_path):\n",
    "        # Check if the file is a CSV file\n",
    "        if filename.endswith('.csv'):\n",
    "            file_path = os.path.join(folder_path, filename)\n",
    "\n",
    "            with open(file_path, 'r', newline='') as file:\n",
    "                reader = csv.reader(file)\n",
    "                \n",
    "                # (Optional) Skip header row if you know the CSVs contain headers\n",
    "                # next(reader)\n",
    "\n",
    "                for row in reader:\n",
    "                    # Each row has the format [battery, dataset, n, d, labels, k, noise, g]\n",
    "                    # We only care about battery (row[0]) and dataset (row[1]) for the mapping\n",
    "                    battery = row[0].strip()\n",
    "                    dataset = row[1].strip()\n",
    "\n",
    "                    if battery not in eval_collections:\n",
    "                        eval_collections[battery] = set()\n",
    "                    eval_collections[battery].add(dataset)\n",
    "    \n",
    "    # Convert sets to lists so they can be JSON-serialized easily\n",
    "    for key in eval_collections:\n",
    "        eval_collections[key] = sorted(list(eval_collections[key]))\n",
    "    \n",
    "    return eval_collections\n",
    "\n",
    "def save_dict_to_json(eval_collections, json_filename):\n",
    "    with open(json_filename, 'w') as json_file:\n",
    "        json.dump(eval_collections, json_file, indent=4)\n",
    "\n",
    "folder_path = '/Users/cajoshuapark/Dev/research/embedding_based_clustering_research/framework/collection_information'\n",
    "eval_collections = create_dict_from_csv_files(folder_path)\n",
    "print(eval_collections)\n",
    "\n",
    "json_filename = '/Users/cajoshuapark/Dev/research/embedding_based_clustering_research/framework/collection_information/eval_collections.json'\n",
    "save_dict_to_json(eval_collections, json_filename)\n",
    "print(f\"Data saved to {json_filename}\")\n"
   ]
  }
 ],
 "metadata": {
  "kernelspec": {
   "display_name": "venv",
   "language": "python",
   "name": "python3"
  },
  "language_info": {
   "codemirror_mode": {
    "name": "ipython",
    "version": 3
   },
   "file_extension": ".py",
   "mimetype": "text/x-python",
   "name": "python",
   "nbconvert_exporter": "python",
   "pygments_lexer": "ipython3",
   "version": "3.10.7"
  }
 },
 "nbformat": 4,
 "nbformat_minor": 2
}
